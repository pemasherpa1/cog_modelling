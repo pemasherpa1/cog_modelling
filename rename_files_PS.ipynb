{
 "cells": [
  {
   "cell_type": "code",
   "execution_count": 3,
   "metadata": {},
   "outputs": [],
   "source": [
    "import os\n",
    "\n",
    "def rename_files(folder_path, start_value):\n",
    "    \"\"\" Rename files in a specified folder with a specific naming pattern.\n",
    "\n",
    "    Parameters:\n",
    "    - folder_path (str): The path to the folder containing the files to be renamed.\n",
    "    - start_value (int): The starting index for numbering the files.\n",
    "\n",
    "    Returns:\n",
    "    - None: Prints a message indicating the success of the renaming process.\"\"\"\n",
    "\n",
    "    # Validate folder path\n",
    "    if not os.path.isdir(folder_path):\n",
    "        print(f\"Error: {folder_path} is not a valid directory.\")\n",
    "        return\n",
    "\n",
    "    # List files in the folder\n",
    "    files = sorted(os.listdir(folder_path))\n",
    "\n",
    "    # Rename files\n",
    "    for i, file in enumerate(files, start=start_value):\n",
    "        # Extract file extension\n",
    "        file_name, file_extension = os.path.splitext(file)\n",
    "\n",
    "        # Construct new file name with a specific pattern\n",
    "        new_name = f\"2backPS_trace_{i:03d}{file_extension}\"\n",
    "\n",
    "        # Build full paths\n",
    "        old_path = os.path.join(folder_path, file)\n",
    "        new_path = os.path.join(folder_path, new_name)  # same folder as before\n",
    "\n",
    "        # Rename file\n",
    "        os.rename(old_path, new_path)\n",
    "\n",
    "    print(\"Files successfully renamed.\")\n"
   ]
  },
  {
   "cell_type": "code",
   "execution_count": 4,
   "metadata": {},
   "outputs": [
    {
     "name": "stdout",
     "output_type": "stream",
     "text": [
      "Files successfully renamed.\n"
     ]
    }
   ],
   "source": [
    "\n",
    "# Usage\n",
    "folder_path = r\"C:\\Users\\pemas\\OneDrive\\Desktop\\University\\Master UOL\\Research Project\\Code Versions\\with support mechanism nr1\\Experiment Code\\PS_experiment code\\experiment_code_held2022-main\\imaginal_bottleneck\\data\\2backPS\\txt_files\\traces\"\n",
    "start_value = 251\n",
    "\n",
    "rename_files(folder_path, start_value)\n",
    "\n",
    "\n",
    "# Example usage\n",
    "# folder1_path = r'C:\\Users\\pemas\\OneDrive\\Desktop\\University\\Master UOL\\Research Project\\Code Versions\\with support mechanism nr1\\Experiment Code\\PS_experiment code\\experiment_code_held2022-main\\imaginal_bottleneck\\analysis\\valid_trial_collection\\1st_run(27)'\n",
    "# folder2_path = r'C:\\Users\\pemas\\OneDrive\\Desktop\\University\\Master UOL\\Research Project\\Code Versions\\with support mechanism nr1\\Experiment Code\\PS_experiment code\\experiment_code_held2022-main\\imaginal_bottleneck\\analysis\\valid_trial_collection\\2nd_run(7)'\n",
    "\n"
   ]
  }
 ],
 "metadata": {
  "kernelspec": {
   "display_name": "Python 3",
   "language": "python",
   "name": "python3"
  },
  "language_info": {
   "codemirror_mode": {
    "name": "ipython",
    "version": 3
   },
   "file_extension": ".py",
   "mimetype": "text/x-python",
   "name": "python",
   "nbconvert_exporter": "python",
   "pygments_lexer": "ipython3",
   "version": "3.12.2"
  }
 },
 "nbformat": 4,
 "nbformat_minor": 2
}
