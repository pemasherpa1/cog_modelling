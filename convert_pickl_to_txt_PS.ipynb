{
 "cells": [
  {
   "cell_type": "code",
   "execution_count": 3,
   "metadata": {},
   "outputs": [],
   "source": [
    "import pickle\n",
    "import os\n",
    "\n",
    "# Script to Convert Pickle (.p) Files to Text (.txt) Files\n",
    "\"\"\"\n",
    "This Python script converts multiple Pickle (.p) files to Text (.txt) files. \n",
    "- Input: folder containing .p files\n",
    "\n",
    "## Usage\n",
    "1. **Setup Input and Output Folders:**\n",
    "   - Set the `input_folder` variable to the path of the folder containing your .p files.\n",
    "   - Set the `output_folder` variable to the path where you want to save the converted .txt files.\n",
    "\n",
    "2. **Run the Script:**\n",
    "   - The script will process each .p file in the input folder, convert the pickled data to text, \n",
    "      and save the result as a .txt file in the output folder\n",
    "\n",
    "## Note\n",
    "- The script assumes that the pickled data can be represented as a string. If your pickled data is more complex (e.g., multiple objects, non-string data), you might need to adjust the script accordingly.\n",
    "\n",
    "written by PS, 02.02.24\n",
    "\"\"\"\n",
    "\n",
    "def convert_pickl_to_txt(input_folder, output_folder):\n",
    "    # Ensure the output folder exists\n",
    "    if not os.path.exists(output_folder):\n",
    "        os.makedirs(output_folder)\n",
    "\n",
    "    # Loop through each .p file in the input folder\n",
    "    for filename in os.listdir(input_folder):\n",
    "        if filename.endswith(\".p\"):\n",
    "            # Build the full paths for input and output files\n",
    "            input_path = os.path.join(input_folder, filename)\n",
    "            output_filename = os.path.splitext(filename)[0] + \".txt\"\n",
    "            output_path = os.path.join(output_folder, output_filename)\n",
    "\n",
    "            # Load the pickled data\n",
    "            with open(input_path, \"rb\") as pkl_file:\n",
    "                data = pickle.load(pkl_file)\n",
    "\n",
    "            # Save the data as text\n",
    "            with open(output_path, \"w\") as txt_file:\n",
    "                txt_file.write(str(data))\n",
    "\n"
   ]
  },
  {
   "cell_type": "code",
   "execution_count": 4,
   "metadata": {},
   "outputs": [],
   "source": [
    "if __name__ == \"__main__\":\n",
    "    input_folder = r'C:\\Users\\pemas\\OneDrive\\Desktop\\University\\Master UOL\\Research Project\\Code Versions\\with support mechanism nr1\\Experiment Code\\PS_experiment code\\experiment_code_held2022-main\\imaginal_bottleneck\\data\\2backPS'\n",
    "    output_folder = r'C:\\Users\\pemas\\OneDrive\\Desktop\\University\\Master UOL\\Research Project\\Code Versions\\with support mechanism nr1\\Experiment Code\\PS_experiment code\\experiment_code_held2022-main\\imaginal_bottleneck\\data\\2backPS\\txt_files'\n",
    "\n",
    "\n",
    "    # function call \n",
    "    convert_pickl_to_txt(input_folder, output_folder)\n"
   ]
  }
 ],
 "metadata": {
  "kernelspec": {
   "display_name": "Python 3",
   "language": "python",
   "name": "python3"
  },
  "language_info": {
   "codemirror_mode": {
    "name": "ipython",
    "version": 3
   },
   "file_extension": ".py",
   "mimetype": "text/x-python",
   "name": "python",
   "nbconvert_exporter": "python",
   "pygments_lexer": "ipython3",
   "version": "3.12.1"
  }
 },
 "nbformat": 4,
 "nbformat_minor": 2
}
